{
  "nbformat": 4,
  "nbformat_minor": 0,
  "metadata": {
    "colab": {
      "provenance": []
    },
    "kernelspec": {
      "name": "python3",
      "display_name": "Python 3"
    },
    "language_info": {
      "name": "python"
    },
    "accelerator": "GPU",
    "gpuClass": "standard"
  },
  "cells": [
    {
      "cell_type": "code",
      "execution_count": 32,
      "metadata": {
        "colab": {
          "base_uri": "https://localhost:8080/"
        },
        "id": "AfQxDh-7e3H2",
        "outputId": "abfc190a-3a23-4c4a-fd0a-12cd7057e6c3"
      },
      "outputs": [
        {
          "output_type": "stream",
          "name": "stdout",
          "text": [
            "Drive already mounted at /content/drive; to attempt to forcibly remount, call drive.mount(\"/content/drive\", force_remount=True).\n"
          ]
        }
      ],
      "source": [
        "from google.colab import drive\n",
        "drive.mount('/content/drive')"
      ]
    },
    {
      "cell_type": "code",
      "source": [
        "from matplotlib import pyplot as plt"
      ],
      "metadata": {
        "id": "6EFlmQOGg9pI"
      },
      "execution_count": 33,
      "outputs": []
    },
    {
      "cell_type": "code",
      "source": [
        "from keras.models import Sequential"
      ],
      "metadata": {
        "id": "hjtSNxzFhDDS"
      },
      "execution_count": 34,
      "outputs": []
    },
    {
      "cell_type": "code",
      "source": [
        "from keras.layers import Dense, Dropout, Activation, Flatten, Conv2D, MaxPooling2D"
      ],
      "metadata": {
        "id": "m2Qh4gkUhMzK"
      },
      "execution_count": 35,
      "outputs": []
    },
    {
      "cell_type": "code",
      "source": [
        "from keras.utils import np_utils"
      ],
      "metadata": {
        "id": "QvICZjTBhgfG"
      },
      "execution_count": 37,
      "outputs": []
    },
    {
      "cell_type": "code",
      "source": [
        "!pip install tensorflow"
      ],
      "metadata": {
        "colab": {
          "base_uri": "https://localhost:8080/"
        },
        "id": "FZY0zwnPhlsI",
        "outputId": "9376a60c-55f6-474a-e417-9a76eca7e790"
      },
      "execution_count": 38,
      "outputs": [
        {
          "output_type": "stream",
          "name": "stdout",
          "text": [
            "Looking in indexes: https://pypi.org/simple, https://us-python.pkg.dev/colab-wheels/public/simple/\n",
            "Requirement already satisfied: tensorflow in /usr/local/lib/python3.9/dist-packages (2.11.0)\n",
            "Requirement already satisfied: protobuf<3.20,>=3.9.2 in /usr/local/lib/python3.9/dist-packages (from tensorflow) (3.19.6)\n",
            "Requirement already satisfied: google-pasta>=0.1.1 in /usr/local/lib/python3.9/dist-packages (from tensorflow) (0.2.0)\n",
            "Requirement already satisfied: libclang>=13.0.0 in /usr/local/lib/python3.9/dist-packages (from tensorflow) (15.0.6.1)\n",
            "Requirement already satisfied: wrapt>=1.11.0 in /usr/local/lib/python3.9/dist-packages (from tensorflow) (1.15.0)\n",
            "Requirement already satisfied: six>=1.12.0 in /usr/local/lib/python3.9/dist-packages (from tensorflow) (1.15.0)\n",
            "Requirement already satisfied: flatbuffers>=2.0 in /usr/local/lib/python3.9/dist-packages (from tensorflow) (23.3.3)\n",
            "Requirement already satisfied: astunparse>=1.6.0 in /usr/local/lib/python3.9/dist-packages (from tensorflow) (1.6.3)\n",
            "Requirement already satisfied: opt-einsum>=2.3.2 in /usr/local/lib/python3.9/dist-packages (from tensorflow) (3.3.0)\n",
            "Requirement already satisfied: tensorboard<2.12,>=2.11 in /usr/local/lib/python3.9/dist-packages (from tensorflow) (2.11.2)\n",
            "Requirement already satisfied: grpcio<2.0,>=1.24.3 in /usr/local/lib/python3.9/dist-packages (from tensorflow) (1.51.3)\n",
            "Requirement already satisfied: gast<=0.4.0,>=0.2.1 in /usr/local/lib/python3.9/dist-packages (from tensorflow) (0.4.0)\n",
            "Requirement already satisfied: keras<2.12,>=2.11.0 in /usr/local/lib/python3.9/dist-packages (from tensorflow) (2.11.0)\n",
            "Requirement already satisfied: numpy>=1.20 in /usr/local/lib/python3.9/dist-packages (from tensorflow) (1.22.4)\n",
            "Requirement already satisfied: absl-py>=1.0.0 in /usr/local/lib/python3.9/dist-packages (from tensorflow) (1.4.0)\n",
            "Requirement already satisfied: h5py>=2.9.0 in /usr/local/lib/python3.9/dist-packages (from tensorflow) (3.8.0)\n",
            "Requirement already satisfied: termcolor>=1.1.0 in /usr/local/lib/python3.9/dist-packages (from tensorflow) (2.2.0)\n",
            "Requirement already satisfied: setuptools in /usr/local/lib/python3.9/dist-packages (from tensorflow) (63.4.3)\n",
            "Requirement already satisfied: tensorflow-io-gcs-filesystem>=0.23.1 in /usr/local/lib/python3.9/dist-packages (from tensorflow) (0.31.0)\n",
            "Requirement already satisfied: tensorflow-estimator<2.12,>=2.11.0 in /usr/local/lib/python3.9/dist-packages (from tensorflow) (2.11.0)\n",
            "Requirement already satisfied: typing-extensions>=3.6.6 in /usr/local/lib/python3.9/dist-packages (from tensorflow) (4.5.0)\n",
            "Requirement already satisfied: packaging in /usr/local/lib/python3.9/dist-packages (from tensorflow) (23.0)\n",
            "Requirement already satisfied: wheel<1.0,>=0.23.0 in /usr/local/lib/python3.9/dist-packages (from astunparse>=1.6.0->tensorflow) (0.40.0)\n",
            "Requirement already satisfied: google-auth-oauthlib<0.5,>=0.4.1 in /usr/local/lib/python3.9/dist-packages (from tensorboard<2.12,>=2.11->tensorflow) (0.4.6)\n",
            "Requirement already satisfied: werkzeug>=1.0.1 in /usr/local/lib/python3.9/dist-packages (from tensorboard<2.12,>=2.11->tensorflow) (2.2.3)\n",
            "Requirement already satisfied: google-auth<3,>=1.6.3 in /usr/local/lib/python3.9/dist-packages (from tensorboard<2.12,>=2.11->tensorflow) (2.16.2)\n",
            "Requirement already satisfied: tensorboard-data-server<0.7.0,>=0.6.0 in /usr/local/lib/python3.9/dist-packages (from tensorboard<2.12,>=2.11->tensorflow) (0.6.1)\n",
            "Requirement already satisfied: markdown>=2.6.8 in /usr/local/lib/python3.9/dist-packages (from tensorboard<2.12,>=2.11->tensorflow) (3.4.1)\n",
            "Requirement already satisfied: tensorboard-plugin-wit>=1.6.0 in /usr/local/lib/python3.9/dist-packages (from tensorboard<2.12,>=2.11->tensorflow) (1.8.1)\n",
            "Requirement already satisfied: requests<3,>=2.21.0 in /usr/local/lib/python3.9/dist-packages (from tensorboard<2.12,>=2.11->tensorflow) (2.27.1)\n",
            "Requirement already satisfied: rsa<5,>=3.1.4 in /usr/local/lib/python3.9/dist-packages (from google-auth<3,>=1.6.3->tensorboard<2.12,>=2.11->tensorflow) (4.9)\n",
            "Requirement already satisfied: pyasn1-modules>=0.2.1 in /usr/local/lib/python3.9/dist-packages (from google-auth<3,>=1.6.3->tensorboard<2.12,>=2.11->tensorflow) (0.2.8)\n",
            "Requirement already satisfied: cachetools<6.0,>=2.0.0 in /usr/local/lib/python3.9/dist-packages (from google-auth<3,>=1.6.3->tensorboard<2.12,>=2.11->tensorflow) (5.3.0)\n",
            "Requirement already satisfied: requests-oauthlib>=0.7.0 in /usr/local/lib/python3.9/dist-packages (from google-auth-oauthlib<0.5,>=0.4.1->tensorboard<2.12,>=2.11->tensorflow) (1.3.1)\n",
            "Requirement already satisfied: importlib-metadata>=4.4 in /usr/local/lib/python3.9/dist-packages (from markdown>=2.6.8->tensorboard<2.12,>=2.11->tensorflow) (6.0.0)\n",
            "Requirement already satisfied: certifi>=2017.4.17 in /usr/local/lib/python3.9/dist-packages (from requests<3,>=2.21.0->tensorboard<2.12,>=2.11->tensorflow) (2022.12.7)\n",
            "Requirement already satisfied: charset-normalizer~=2.0.0 in /usr/local/lib/python3.9/dist-packages (from requests<3,>=2.21.0->tensorboard<2.12,>=2.11->tensorflow) (2.0.12)\n",
            "Requirement already satisfied: urllib3<1.27,>=1.21.1 in /usr/local/lib/python3.9/dist-packages (from requests<3,>=2.21.0->tensorboard<2.12,>=2.11->tensorflow) (1.26.15)\n",
            "Requirement already satisfied: idna<4,>=2.5 in /usr/local/lib/python3.9/dist-packages (from requests<3,>=2.21.0->tensorboard<2.12,>=2.11->tensorflow) (3.4)\n",
            "Requirement already satisfied: MarkupSafe>=2.1.1 in /usr/local/lib/python3.9/dist-packages (from werkzeug>=1.0.1->tensorboard<2.12,>=2.11->tensorflow) (2.1.2)\n",
            "Requirement already satisfied: zipp>=0.5 in /usr/local/lib/python3.9/dist-packages (from importlib-metadata>=4.4->markdown>=2.6.8->tensorboard<2.12,>=2.11->tensorflow) (3.15.0)\n",
            "Requirement already satisfied: pyasn1<0.5.0,>=0.4.6 in /usr/local/lib/python3.9/dist-packages (from pyasn1-modules>=0.2.1->google-auth<3,>=1.6.3->tensorboard<2.12,>=2.11->tensorflow) (0.4.8)\n",
            "Requirement already satisfied: oauthlib>=3.0.0 in /usr/local/lib/python3.9/dist-packages (from requests-oauthlib>=0.7.0->google-auth-oauthlib<0.5,>=0.4.1->tensorboard<2.12,>=2.11->tensorflow) (3.2.2)\n"
          ]
        }
      ]
    },
    {
      "cell_type": "code",
      "source": [
        "import tensorflow as tf\n",
        "tf.__version__"
      ],
      "metadata": {
        "colab": {
          "base_uri": "https://localhost:8080/",
          "height": 36
        },
        "id": "O8tztZm8lX27",
        "outputId": "cfb8a23c-77fd-41cf-930c-92b960e6465e"
      },
      "execution_count": 39,
      "outputs": [
        {
          "output_type": "execute_result",
          "data": {
            "text/plain": [
              "'2.11.0'"
            ],
            "application/vnd.google.colaboratory.intrinsic+json": {
              "type": "string"
            }
          },
          "metadata": {},
          "execution_count": 39
        }
      ]
    },
    {
      "cell_type": "code",
      "source": [
        "from tensorflow.keras.layers import Input, Lambda, Dense, Flatten"
      ],
      "metadata": {
        "id": "T8NQdJiUluSy"
      },
      "execution_count": 40,
      "outputs": []
    },
    {
      "cell_type": "code",
      "source": [
        "from tensorflow.keras.models import Model"
      ],
      "metadata": {
        "id": "4zipshPil21v"
      },
      "execution_count": 96,
      "outputs": []
    },
    {
      "cell_type": "code",
      "source": [
        "from tensorflow.keras.applications.inception_v3 import InceptionV3"
      ],
      "metadata": {
        "id": "WafBCBJ9l-sT"
      },
      "execution_count": 42,
      "outputs": []
    },
    {
      "cell_type": "code",
      "source": [
        "from tensorflow.keras.applications.inception_v3 import preprocess_input"
      ],
      "metadata": {
        "id": "K_Rdgy0kmTLT"
      },
      "execution_count": 43,
      "outputs": []
    },
    {
      "cell_type": "code",
      "source": [
        "from tensorflow.keras.preprocessing import image"
      ],
      "metadata": {
        "id": "cHB8RRUbmoWD"
      },
      "execution_count": 44,
      "outputs": []
    },
    {
      "cell_type": "code",
      "source": [
        "from tensorflow.keras.preprocessing.image import ImageDataGenerator, load_img"
      ],
      "metadata": {
        "id": "g0uXaAS3mv3A"
      },
      "execution_count": 45,
      "outputs": []
    },
    {
      "cell_type": "code",
      "source": [
        "from tensorflow.keras.models import Sequential"
      ],
      "metadata": {
        "id": "U-3jn5Sgm5cc"
      },
      "execution_count": 46,
      "outputs": []
    },
    {
      "cell_type": "code",
      "source": [
        "import numpy as np"
      ],
      "metadata": {
        "id": "8aXd_-v_m_KQ"
      },
      "execution_count": 47,
      "outputs": []
    },
    {
      "cell_type": "code",
      "source": [
        "from glob2 import glob"
      ],
      "metadata": {
        "id": "eWCX0t8nnG5z"
      },
      "execution_count": 61,
      "outputs": []
    },
    {
      "cell_type": "code",
      "source": [
        "IMAGE_SIZE = [224, 224]"
      ],
      "metadata": {
        "id": "GNaJCMLAnVRH"
      },
      "execution_count": 62,
      "outputs": []
    },
    {
      "cell_type": "code",
      "source": [
        "train_path = '/content/drive/MyDrive/Dataset/train'\n",
        "valid_path = '/content/drive/MyDrive/Dataset/validation'"
      ],
      "metadata": {
        "id": "bexGf4HenbVE"
      },
      "execution_count": 78,
      "outputs": []
    },
    {
      "cell_type": "code",
      "source": [
        "inception = InceptionV3(input_shape=IMAGE_SIZE + [3], weights='imagenet', include_top=False)"
      ],
      "metadata": {
        "id": "JZClcBK0058W"
      },
      "execution_count": 79,
      "outputs": []
    },
    {
      "cell_type": "code",
      "source": [
        "for layer in inception.layers:\n",
        "  layer.trainable = True\n",
        "\n",
        "folders = glob('/content/drive/MyDrive/Dataset/train/*')"
      ],
      "metadata": {
        "id": "DMSY46V31PDq"
      },
      "execution_count": 80,
      "outputs": []
    },
    {
      "cell_type": "code",
      "source": [
        "folders"
      ],
      "metadata": {
        "colab": {
          "base_uri": "https://localhost:8080/"
        },
        "id": "LZ13tFog1v2C",
        "outputId": "fcfef70d-4023-4a06-e760-a5fd7a343312"
      },
      "execution_count": 81,
      "outputs": [
        {
          "output_type": "execute_result",
          "data": {
            "text/plain": [
              "['/content/drive/MyDrive/Dataset/train/aloe_vera_healthy',\n",
              " '/content/drive/MyDrive/Dataset/train/aloe_vera_rot',\n",
              " '/content/drive/MyDrive/Dataset/train/aloe_vera_rust',\n",
              " '/content/drive/MyDrive/Dataset/train/duranta_erecta_healthy',\n",
              " '/content/drive/MyDrive/Dataset/train/eleanor_roosevelt_croton',\n",
              " '/content/drive/MyDrive/Dataset/train/fittonia_frankie_ealthy',\n",
              " '/content/drive/MyDrive/Dataset/train/haworthia',\n",
              " '/content/drive/MyDrive/Dataset/train/hoya_carnosa',\n",
              " '/content/drive/MyDrive/Dataset/train/minthostachys_mollis_healthy',\n",
              " '/content/drive/MyDrive/Dataset/train/minthostachys_mollis_leaf_withering',\n",
              " '/content/drive/MyDrive/Dataset/train/violet_heart_healthy',\n",
              " '/content/drive/MyDrive/Dataset/train/snow_rose',\n",
              " '/content/drive/MyDrive/Dataset/train/violet_heart_leaf_withering',\n",
              " '/content/drive/MyDrive/Dataset/train/watermelon_peperomia_healthy',\n",
              " '/content/drive/MyDrive/Dataset/train/watermelon_peperomia_;eaves_splitting',\n",
              " '/content/drive/MyDrive/Dataset/train/not_plants']"
            ]
          },
          "metadata": {},
          "execution_count": 81
        }
      ]
    },
    {
      "cell_type": "code",
      "source": [
        "x = Flatten()(inception.output)"
      ],
      "metadata": {
        "id": "9_lVZKnt6EC7"
      },
      "execution_count": 82,
      "outputs": []
    },
    {
      "cell_type": "code",
      "source": [
        "prediction = Dense(len(folders), activation='softmax')(x)\n",
        "\n",
        "# create a model object\n",
        "model = Model(inputs=inception.input, outputs=prediction)"
      ],
      "metadata": {
        "id": "aaB09Wu-6On0"
      },
      "execution_count": 84,
      "outputs": []
    },
    {
      "cell_type": "code",
      "source": [
        "# view the structure of the model\n",
        "model.summary()"
      ],
      "metadata": {
        "colab": {
          "base_uri": "https://localhost:8080/"
        },
        "id": "BZEXqrxb6QiD",
        "outputId": "09ebc149-dc96-4d35-dc6b-e13d7062ef89"
      },
      "execution_count": 85,
      "outputs": [
        {
          "output_type": "stream",
          "name": "stdout",
          "text": [
            "Model: \"model_2\"\n",
            "__________________________________________________________________________________________________\n",
            " Layer (type)                   Output Shape         Param #     Connected to                     \n",
            "==================================================================================================\n",
            " input_4 (InputLayer)           [(None, 224, 224, 3  0           []                               \n",
            "                                )]                                                                \n",
            "                                                                                                  \n",
            " conv2d_282 (Conv2D)            (None, 111, 111, 32  864         ['input_4[0][0]']                \n",
            "                                )                                                                 \n",
            "                                                                                                  \n",
            " batch_normalization_282 (Batch  (None, 111, 111, 32  96         ['conv2d_282[0][0]']             \n",
            " Normalization)                 )                                                                 \n",
            "                                                                                                  \n",
            " activation_282 (Activation)    (None, 111, 111, 32  0           ['batch_normalization_282[0][0]']\n",
            "                                )                                                                 \n",
            "                                                                                                  \n",
            " conv2d_283 (Conv2D)            (None, 109, 109, 32  9216        ['activation_282[0][0]']         \n",
            "                                )                                                                 \n",
            "                                                                                                  \n",
            " batch_normalization_283 (Batch  (None, 109, 109, 32  96         ['conv2d_283[0][0]']             \n",
            " Normalization)                 )                                                                 \n",
            "                                                                                                  \n",
            " activation_283 (Activation)    (None, 109, 109, 32  0           ['batch_normalization_283[0][0]']\n",
            "                                )                                                                 \n",
            "                                                                                                  \n",
            " conv2d_284 (Conv2D)            (None, 109, 109, 64  18432       ['activation_283[0][0]']         \n",
            "                                )                                                                 \n",
            "                                                                                                  \n",
            " batch_normalization_284 (Batch  (None, 109, 109, 64  192        ['conv2d_284[0][0]']             \n",
            " Normalization)                 )                                                                 \n",
            "                                                                                                  \n",
            " activation_284 (Activation)    (None, 109, 109, 64  0           ['batch_normalization_284[0][0]']\n",
            "                                )                                                                 \n",
            "                                                                                                  \n",
            " max_pooling2d_12 (MaxPooling2D  (None, 54, 54, 64)  0           ['activation_284[0][0]']         \n",
            " )                                                                                                \n",
            "                                                                                                  \n",
            " conv2d_285 (Conv2D)            (None, 54, 54, 80)   5120        ['max_pooling2d_12[0][0]']       \n",
            "                                                                                                  \n",
            " batch_normalization_285 (Batch  (None, 54, 54, 80)  240         ['conv2d_285[0][0]']             \n",
            " Normalization)                                                                                   \n",
            "                                                                                                  \n",
            " activation_285 (Activation)    (None, 54, 54, 80)   0           ['batch_normalization_285[0][0]']\n",
            "                                                                                                  \n",
            " conv2d_286 (Conv2D)            (None, 52, 52, 192)  138240      ['activation_285[0][0]']         \n",
            "                                                                                                  \n",
            " batch_normalization_286 (Batch  (None, 52, 52, 192)  576        ['conv2d_286[0][0]']             \n",
            " Normalization)                                                                                   \n",
            "                                                                                                  \n",
            " activation_286 (Activation)    (None, 52, 52, 192)  0           ['batch_normalization_286[0][0]']\n",
            "                                                                                                  \n",
            " max_pooling2d_13 (MaxPooling2D  (None, 25, 25, 192)  0          ['activation_286[0][0]']         \n",
            " )                                                                                                \n",
            "                                                                                                  \n",
            " conv2d_290 (Conv2D)            (None, 25, 25, 64)   12288       ['max_pooling2d_13[0][0]']       \n",
            "                                                                                                  \n",
            " batch_normalization_290 (Batch  (None, 25, 25, 64)  192         ['conv2d_290[0][0]']             \n",
            " Normalization)                                                                                   \n",
            "                                                                                                  \n",
            " activation_290 (Activation)    (None, 25, 25, 64)   0           ['batch_normalization_290[0][0]']\n",
            "                                                                                                  \n",
            " conv2d_288 (Conv2D)            (None, 25, 25, 48)   9216        ['max_pooling2d_13[0][0]']       \n",
            "                                                                                                  \n",
            " conv2d_291 (Conv2D)            (None, 25, 25, 96)   55296       ['activation_290[0][0]']         \n",
            "                                                                                                  \n",
            " batch_normalization_288 (Batch  (None, 25, 25, 48)  144         ['conv2d_288[0][0]']             \n",
            " Normalization)                                                                                   \n",
            "                                                                                                  \n",
            " batch_normalization_291 (Batch  (None, 25, 25, 96)  288         ['conv2d_291[0][0]']             \n",
            " Normalization)                                                                                   \n",
            "                                                                                                  \n",
            " activation_288 (Activation)    (None, 25, 25, 48)   0           ['batch_normalization_288[0][0]']\n",
            "                                                                                                  \n",
            " activation_291 (Activation)    (None, 25, 25, 96)   0           ['batch_normalization_291[0][0]']\n",
            "                                                                                                  \n",
            " average_pooling2d_27 (AverageP  (None, 25, 25, 192)  0          ['max_pooling2d_13[0][0]']       \n",
            " ooling2D)                                                                                        \n",
            "                                                                                                  \n",
            " conv2d_287 (Conv2D)            (None, 25, 25, 64)   12288       ['max_pooling2d_13[0][0]']       \n",
            "                                                                                                  \n",
            " conv2d_289 (Conv2D)            (None, 25, 25, 64)   76800       ['activation_288[0][0]']         \n",
            "                                                                                                  \n",
            " conv2d_292 (Conv2D)            (None, 25, 25, 96)   82944       ['activation_291[0][0]']         \n",
            "                                                                                                  \n",
            " conv2d_293 (Conv2D)            (None, 25, 25, 32)   6144        ['average_pooling2d_27[0][0]']   \n",
            "                                                                                                  \n",
            " batch_normalization_287 (Batch  (None, 25, 25, 64)  192         ['conv2d_287[0][0]']             \n",
            " Normalization)                                                                                   \n",
            "                                                                                                  \n",
            " batch_normalization_289 (Batch  (None, 25, 25, 64)  192         ['conv2d_289[0][0]']             \n",
            " Normalization)                                                                                   \n",
            "                                                                                                  \n",
            " batch_normalization_292 (Batch  (None, 25, 25, 96)  288         ['conv2d_292[0][0]']             \n",
            " Normalization)                                                                                   \n",
            "                                                                                                  \n",
            " batch_normalization_293 (Batch  (None, 25, 25, 32)  96          ['conv2d_293[0][0]']             \n",
            " Normalization)                                                                                   \n",
            "                                                                                                  \n",
            " activation_287 (Activation)    (None, 25, 25, 64)   0           ['batch_normalization_287[0][0]']\n",
            "                                                                                                  \n",
            " activation_289 (Activation)    (None, 25, 25, 64)   0           ['batch_normalization_289[0][0]']\n",
            "                                                                                                  \n",
            " activation_292 (Activation)    (None, 25, 25, 96)   0           ['batch_normalization_292[0][0]']\n",
            "                                                                                                  \n",
            " activation_293 (Activation)    (None, 25, 25, 32)   0           ['batch_normalization_293[0][0]']\n",
            "                                                                                                  \n",
            " mixed0 (Concatenate)           (None, 25, 25, 256)  0           ['activation_287[0][0]',         \n",
            "                                                                  'activation_289[0][0]',         \n",
            "                                                                  'activation_292[0][0]',         \n",
            "                                                                  'activation_293[0][0]']         \n",
            "                                                                                                  \n",
            " conv2d_297 (Conv2D)            (None, 25, 25, 64)   16384       ['mixed0[0][0]']                 \n",
            "                                                                                                  \n",
            " batch_normalization_297 (Batch  (None, 25, 25, 64)  192         ['conv2d_297[0][0]']             \n",
            " Normalization)                                                                                   \n",
            "                                                                                                  \n",
            " activation_297 (Activation)    (None, 25, 25, 64)   0           ['batch_normalization_297[0][0]']\n",
            "                                                                                                  \n",
            " conv2d_295 (Conv2D)            (None, 25, 25, 48)   12288       ['mixed0[0][0]']                 \n",
            "                                                                                                  \n",
            " conv2d_298 (Conv2D)            (None, 25, 25, 96)   55296       ['activation_297[0][0]']         \n",
            "                                                                                                  \n",
            " batch_normalization_295 (Batch  (None, 25, 25, 48)  144         ['conv2d_295[0][0]']             \n",
            " Normalization)                                                                                   \n",
            "                                                                                                  \n",
            " batch_normalization_298 (Batch  (None, 25, 25, 96)  288         ['conv2d_298[0][0]']             \n",
            " Normalization)                                                                                   \n",
            "                                                                                                  \n",
            " activation_295 (Activation)    (None, 25, 25, 48)   0           ['batch_normalization_295[0][0]']\n",
            "                                                                                                  \n",
            " activation_298 (Activation)    (None, 25, 25, 96)   0           ['batch_normalization_298[0][0]']\n",
            "                                                                                                  \n",
            " average_pooling2d_28 (AverageP  (None, 25, 25, 256)  0          ['mixed0[0][0]']                 \n",
            " ooling2D)                                                                                        \n",
            "                                                                                                  \n",
            " conv2d_294 (Conv2D)            (None, 25, 25, 64)   16384       ['mixed0[0][0]']                 \n",
            "                                                                                                  \n",
            " conv2d_296 (Conv2D)            (None, 25, 25, 64)   76800       ['activation_295[0][0]']         \n",
            "                                                                                                  \n",
            " conv2d_299 (Conv2D)            (None, 25, 25, 96)   82944       ['activation_298[0][0]']         \n",
            "                                                                                                  \n",
            " conv2d_300 (Conv2D)            (None, 25, 25, 64)   16384       ['average_pooling2d_28[0][0]']   \n",
            "                                                                                                  \n",
            " batch_normalization_294 (Batch  (None, 25, 25, 64)  192         ['conv2d_294[0][0]']             \n",
            " Normalization)                                                                                   \n",
            "                                                                                                  \n",
            " batch_normalization_296 (Batch  (None, 25, 25, 64)  192         ['conv2d_296[0][0]']             \n",
            " Normalization)                                                                                   \n",
            "                                                                                                  \n",
            " batch_normalization_299 (Batch  (None, 25, 25, 96)  288         ['conv2d_299[0][0]']             \n",
            " Normalization)                                                                                   \n",
            "                                                                                                  \n",
            " batch_normalization_300 (Batch  (None, 25, 25, 64)  192         ['conv2d_300[0][0]']             \n",
            " Normalization)                                                                                   \n",
            "                                                                                                  \n",
            " activation_294 (Activation)    (None, 25, 25, 64)   0           ['batch_normalization_294[0][0]']\n",
            "                                                                                                  \n",
            " activation_296 (Activation)    (None, 25, 25, 64)   0           ['batch_normalization_296[0][0]']\n",
            "                                                                                                  \n",
            " activation_299 (Activation)    (None, 25, 25, 96)   0           ['batch_normalization_299[0][0]']\n",
            "                                                                                                  \n",
            " activation_300 (Activation)    (None, 25, 25, 64)   0           ['batch_normalization_300[0][0]']\n",
            "                                                                                                  \n",
            " mixed1 (Concatenate)           (None, 25, 25, 288)  0           ['activation_294[0][0]',         \n",
            "                                                                  'activation_296[0][0]',         \n",
            "                                                                  'activation_299[0][0]',         \n",
            "                                                                  'activation_300[0][0]']         \n",
            "                                                                                                  \n",
            " conv2d_304 (Conv2D)            (None, 25, 25, 64)   18432       ['mixed1[0][0]']                 \n",
            "                                                                                                  \n",
            " batch_normalization_304 (Batch  (None, 25, 25, 64)  192         ['conv2d_304[0][0]']             \n",
            " Normalization)                                                                                   \n",
            "                                                                                                  \n",
            " activation_304 (Activation)    (None, 25, 25, 64)   0           ['batch_normalization_304[0][0]']\n",
            "                                                                                                  \n",
            " conv2d_302 (Conv2D)            (None, 25, 25, 48)   13824       ['mixed1[0][0]']                 \n",
            "                                                                                                  \n",
            " conv2d_305 (Conv2D)            (None, 25, 25, 96)   55296       ['activation_304[0][0]']         \n",
            "                                                                                                  \n",
            " batch_normalization_302 (Batch  (None, 25, 25, 48)  144         ['conv2d_302[0][0]']             \n",
            " Normalization)                                                                                   \n",
            "                                                                                                  \n",
            " batch_normalization_305 (Batch  (None, 25, 25, 96)  288         ['conv2d_305[0][0]']             \n",
            " Normalization)                                                                                   \n",
            "                                                                                                  \n",
            " activation_302 (Activation)    (None, 25, 25, 48)   0           ['batch_normalization_302[0][0]']\n",
            "                                                                                                  \n",
            " activation_305 (Activation)    (None, 25, 25, 96)   0           ['batch_normalization_305[0][0]']\n",
            "                                                                                                  \n",
            " average_pooling2d_29 (AverageP  (None, 25, 25, 288)  0          ['mixed1[0][0]']                 \n",
            " ooling2D)                                                                                        \n",
            "                                                                                                  \n",
            " conv2d_301 (Conv2D)            (None, 25, 25, 64)   18432       ['mixed1[0][0]']                 \n",
            "                                                                                                  \n",
            " conv2d_303 (Conv2D)            (None, 25, 25, 64)   76800       ['activation_302[0][0]']         \n",
            "                                                                                                  \n",
            " conv2d_306 (Conv2D)            (None, 25, 25, 96)   82944       ['activation_305[0][0]']         \n",
            "                                                                                                  \n",
            " conv2d_307 (Conv2D)            (None, 25, 25, 64)   18432       ['average_pooling2d_29[0][0]']   \n",
            "                                                                                                  \n",
            " batch_normalization_301 (Batch  (None, 25, 25, 64)  192         ['conv2d_301[0][0]']             \n",
            " Normalization)                                                                                   \n",
            "                                                                                                  \n",
            " batch_normalization_303 (Batch  (None, 25, 25, 64)  192         ['conv2d_303[0][0]']             \n",
            " Normalization)                                                                                   \n",
            "                                                                                                  \n",
            " batch_normalization_306 (Batch  (None, 25, 25, 96)  288         ['conv2d_306[0][0]']             \n",
            " Normalization)                                                                                   \n",
            "                                                                                                  \n",
            " batch_normalization_307 (Batch  (None, 25, 25, 64)  192         ['conv2d_307[0][0]']             \n",
            " Normalization)                                                                                   \n",
            "                                                                                                  \n",
            " activation_301 (Activation)    (None, 25, 25, 64)   0           ['batch_normalization_301[0][0]']\n",
            "                                                                                                  \n",
            " activation_303 (Activation)    (None, 25, 25, 64)   0           ['batch_normalization_303[0][0]']\n",
            "                                                                                                  \n",
            " activation_306 (Activation)    (None, 25, 25, 96)   0           ['batch_normalization_306[0][0]']\n",
            "                                                                                                  \n",
            " activation_307 (Activation)    (None, 25, 25, 64)   0           ['batch_normalization_307[0][0]']\n",
            "                                                                                                  \n",
            " mixed2 (Concatenate)           (None, 25, 25, 288)  0           ['activation_301[0][0]',         \n",
            "                                                                  'activation_303[0][0]',         \n",
            "                                                                  'activation_306[0][0]',         \n",
            "                                                                  'activation_307[0][0]']         \n",
            "                                                                                                  \n",
            " conv2d_309 (Conv2D)            (None, 25, 25, 64)   18432       ['mixed2[0][0]']                 \n",
            "                                                                                                  \n",
            " batch_normalization_309 (Batch  (None, 25, 25, 64)  192         ['conv2d_309[0][0]']             \n",
            " Normalization)                                                                                   \n",
            "                                                                                                  \n",
            " activation_309 (Activation)    (None, 25, 25, 64)   0           ['batch_normalization_309[0][0]']\n",
            "                                                                                                  \n",
            " conv2d_310 (Conv2D)            (None, 25, 25, 96)   55296       ['activation_309[0][0]']         \n",
            "                                                                                                  \n",
            " batch_normalization_310 (Batch  (None, 25, 25, 96)  288         ['conv2d_310[0][0]']             \n",
            " Normalization)                                                                                   \n",
            "                                                                                                  \n",
            " activation_310 (Activation)    (None, 25, 25, 96)   0           ['batch_normalization_310[0][0]']\n",
            "                                                                                                  \n",
            " conv2d_308 (Conv2D)            (None, 12, 12, 384)  995328      ['mixed2[0][0]']                 \n",
            "                                                                                                  \n",
            " conv2d_311 (Conv2D)            (None, 12, 12, 96)   82944       ['activation_310[0][0]']         \n",
            "                                                                                                  \n",
            " batch_normalization_308 (Batch  (None, 12, 12, 384)  1152       ['conv2d_308[0][0]']             \n",
            " Normalization)                                                                                   \n",
            "                                                                                                  \n",
            " batch_normalization_311 (Batch  (None, 12, 12, 96)  288         ['conv2d_311[0][0]']             \n",
            " Normalization)                                                                                   \n",
            "                                                                                                  \n",
            " activation_308 (Activation)    (None, 12, 12, 384)  0           ['batch_normalization_308[0][0]']\n",
            "                                                                                                  \n",
            " activation_311 (Activation)    (None, 12, 12, 96)   0           ['batch_normalization_311[0][0]']\n",
            "                                                                                                  \n",
            " max_pooling2d_14 (MaxPooling2D  (None, 12, 12, 288)  0          ['mixed2[0][0]']                 \n",
            " )                                                                                                \n",
            "                                                                                                  \n",
            " mixed3 (Concatenate)           (None, 12, 12, 768)  0           ['activation_308[0][0]',         \n",
            "                                                                  'activation_311[0][0]',         \n",
            "                                                                  'max_pooling2d_14[0][0]']       \n",
            "                                                                                                  \n",
            " conv2d_316 (Conv2D)            (None, 12, 12, 128)  98304       ['mixed3[0][0]']                 \n",
            "                                                                                                  \n",
            " batch_normalization_316 (Batch  (None, 12, 12, 128)  384        ['conv2d_316[0][0]']             \n",
            " Normalization)                                                                                   \n",
            "                                                                                                  \n",
            " activation_316 (Activation)    (None, 12, 12, 128)  0           ['batch_normalization_316[0][0]']\n",
            "                                                                                                  \n",
            " conv2d_317 (Conv2D)            (None, 12, 12, 128)  114688      ['activation_316[0][0]']         \n",
            "                                                                                                  \n",
            " batch_normalization_317 (Batch  (None, 12, 12, 128)  384        ['conv2d_317[0][0]']             \n",
            " Normalization)                                                                                   \n",
            "                                                                                                  \n",
            " activation_317 (Activation)    (None, 12, 12, 128)  0           ['batch_normalization_317[0][0]']\n",
            "                                                                                                  \n",
            " conv2d_313 (Conv2D)            (None, 12, 12, 128)  98304       ['mixed3[0][0]']                 \n",
            "                                                                                                  \n",
            " conv2d_318 (Conv2D)            (None, 12, 12, 128)  114688      ['activation_317[0][0]']         \n",
            "                                                                                                  \n",
            " batch_normalization_313 (Batch  (None, 12, 12, 128)  384        ['conv2d_313[0][0]']             \n",
            " Normalization)                                                                                   \n",
            "                                                                                                  \n",
            " batch_normalization_318 (Batch  (None, 12, 12, 128)  384        ['conv2d_318[0][0]']             \n",
            " Normalization)                                                                                   \n",
            "                                                                                                  \n",
            " activation_313 (Activation)    (None, 12, 12, 128)  0           ['batch_normalization_313[0][0]']\n",
            "                                                                                                  \n",
            " activation_318 (Activation)    (None, 12, 12, 128)  0           ['batch_normalization_318[0][0]']\n",
            "                                                                                                  \n",
            " conv2d_314 (Conv2D)            (None, 12, 12, 128)  114688      ['activation_313[0][0]']         \n",
            "                                                                                                  \n",
            " conv2d_319 (Conv2D)            (None, 12, 12, 128)  114688      ['activation_318[0][0]']         \n",
            "                                                                                                  \n",
            " batch_normalization_314 (Batch  (None, 12, 12, 128)  384        ['conv2d_314[0][0]']             \n",
            " Normalization)                                                                                   \n",
            "                                                                                                  \n",
            " batch_normalization_319 (Batch  (None, 12, 12, 128)  384        ['conv2d_319[0][0]']             \n",
            " Normalization)                                                                                   \n",
            "                                                                                                  \n",
            " activation_314 (Activation)    (None, 12, 12, 128)  0           ['batch_normalization_314[0][0]']\n",
            "                                                                                                  \n",
            " activation_319 (Activation)    (None, 12, 12, 128)  0           ['batch_normalization_319[0][0]']\n",
            "                                                                                                  \n",
            " average_pooling2d_30 (AverageP  (None, 12, 12, 768)  0          ['mixed3[0][0]']                 \n",
            " ooling2D)                                                                                        \n",
            "                                                                                                  \n",
            " conv2d_312 (Conv2D)            (None, 12, 12, 192)  147456      ['mixed3[0][0]']                 \n",
            "                                                                                                  \n",
            " conv2d_315 (Conv2D)            (None, 12, 12, 192)  172032      ['activation_314[0][0]']         \n",
            "                                                                                                  \n",
            " conv2d_320 (Conv2D)            (None, 12, 12, 192)  172032      ['activation_319[0][0]']         \n",
            "                                                                                                  \n",
            " conv2d_321 (Conv2D)            (None, 12, 12, 192)  147456      ['average_pooling2d_30[0][0]']   \n",
            "                                                                                                  \n",
            " batch_normalization_312 (Batch  (None, 12, 12, 192)  576        ['conv2d_312[0][0]']             \n",
            " Normalization)                                                                                   \n",
            "                                                                                                  \n",
            " batch_normalization_315 (Batch  (None, 12, 12, 192)  576        ['conv2d_315[0][0]']             \n",
            " Normalization)                                                                                   \n",
            "                                                                                                  \n",
            " batch_normalization_320 (Batch  (None, 12, 12, 192)  576        ['conv2d_320[0][0]']             \n",
            " Normalization)                                                                                   \n",
            "                                                                                                  \n",
            " batch_normalization_321 (Batch  (None, 12, 12, 192)  576        ['conv2d_321[0][0]']             \n",
            " Normalization)                                                                                   \n",
            "                                                                                                  \n",
            " activation_312 (Activation)    (None, 12, 12, 192)  0           ['batch_normalization_312[0][0]']\n",
            "                                                                                                  \n",
            " activation_315 (Activation)    (None, 12, 12, 192)  0           ['batch_normalization_315[0][0]']\n",
            "                                                                                                  \n",
            " activation_320 (Activation)    (None, 12, 12, 192)  0           ['batch_normalization_320[0][0]']\n",
            "                                                                                                  \n",
            " activation_321 (Activation)    (None, 12, 12, 192)  0           ['batch_normalization_321[0][0]']\n",
            "                                                                                                  \n",
            " mixed4 (Concatenate)           (None, 12, 12, 768)  0           ['activation_312[0][0]',         \n",
            "                                                                  'activation_315[0][0]',         \n",
            "                                                                  'activation_320[0][0]',         \n",
            "                                                                  'activation_321[0][0]']         \n",
            "                                                                                                  \n",
            " conv2d_326 (Conv2D)            (None, 12, 12, 160)  122880      ['mixed4[0][0]']                 \n",
            "                                                                                                  \n",
            " batch_normalization_326 (Batch  (None, 12, 12, 160)  480        ['conv2d_326[0][0]']             \n",
            " Normalization)                                                                                   \n",
            "                                                                                                  \n",
            " activation_326 (Activation)    (None, 12, 12, 160)  0           ['batch_normalization_326[0][0]']\n",
            "                                                                                                  \n",
            " conv2d_327 (Conv2D)            (None, 12, 12, 160)  179200      ['activation_326[0][0]']         \n",
            "                                                                                                  \n",
            " batch_normalization_327 (Batch  (None, 12, 12, 160)  480        ['conv2d_327[0][0]']             \n",
            " Normalization)                                                                                   \n",
            "                                                                                                  \n",
            " activation_327 (Activation)    (None, 12, 12, 160)  0           ['batch_normalization_327[0][0]']\n",
            "                                                                                                  \n",
            " conv2d_323 (Conv2D)            (None, 12, 12, 160)  122880      ['mixed4[0][0]']                 \n",
            "                                                                                                  \n",
            " conv2d_328 (Conv2D)            (None, 12, 12, 160)  179200      ['activation_327[0][0]']         \n",
            "                                                                                                  \n",
            " batch_normalization_323 (Batch  (None, 12, 12, 160)  480        ['conv2d_323[0][0]']             \n",
            " Normalization)                                                                                   \n",
            "                                                                                                  \n",
            " batch_normalization_328 (Batch  (None, 12, 12, 160)  480        ['conv2d_328[0][0]']             \n",
            " Normalization)                                                                                   \n",
            "                                                                                                  \n",
            " activation_323 (Activation)    (None, 12, 12, 160)  0           ['batch_normalization_323[0][0]']\n",
            "                                                                                                  \n",
            " activation_328 (Activation)    (None, 12, 12, 160)  0           ['batch_normalization_328[0][0]']\n",
            "                                                                                                  \n",
            " conv2d_324 (Conv2D)            (None, 12, 12, 160)  179200      ['activation_323[0][0]']         \n",
            "                                                                                                  \n",
            " conv2d_329 (Conv2D)            (None, 12, 12, 160)  179200      ['activation_328[0][0]']         \n",
            "                                                                                                  \n",
            " batch_normalization_324 (Batch  (None, 12, 12, 160)  480        ['conv2d_324[0][0]']             \n",
            " Normalization)                                                                                   \n",
            "                                                                                                  \n",
            " batch_normalization_329 (Batch  (None, 12, 12, 160)  480        ['conv2d_329[0][0]']             \n",
            " Normalization)                                                                                   \n",
            "                                                                                                  \n",
            " activation_324 (Activation)    (None, 12, 12, 160)  0           ['batch_normalization_324[0][0]']\n",
            "                                                                                                  \n",
            " activation_329 (Activation)    (None, 12, 12, 160)  0           ['batch_normalization_329[0][0]']\n",
            "                                                                                                  \n",
            " average_pooling2d_31 (AverageP  (None, 12, 12, 768)  0          ['mixed4[0][0]']                 \n",
            " ooling2D)                                                                                        \n",
            "                                                                                                  \n",
            " conv2d_322 (Conv2D)            (None, 12, 12, 192)  147456      ['mixed4[0][0]']                 \n",
            "                                                                                                  \n",
            " conv2d_325 (Conv2D)            (None, 12, 12, 192)  215040      ['activation_324[0][0]']         \n",
            "                                                                                                  \n",
            " conv2d_330 (Conv2D)            (None, 12, 12, 192)  215040      ['activation_329[0][0]']         \n",
            "                                                                                                  \n",
            " conv2d_331 (Conv2D)            (None, 12, 12, 192)  147456      ['average_pooling2d_31[0][0]']   \n",
            "                                                                                                  \n",
            " batch_normalization_322 (Batch  (None, 12, 12, 192)  576        ['conv2d_322[0][0]']             \n",
            " Normalization)                                                                                   \n",
            "                                                                                                  \n",
            " batch_normalization_325 (Batch  (None, 12, 12, 192)  576        ['conv2d_325[0][0]']             \n",
            " Normalization)                                                                                   \n",
            "                                                                                                  \n",
            " batch_normalization_330 (Batch  (None, 12, 12, 192)  576        ['conv2d_330[0][0]']             \n",
            " Normalization)                                                                                   \n",
            "                                                                                                  \n",
            " batch_normalization_331 (Batch  (None, 12, 12, 192)  576        ['conv2d_331[0][0]']             \n",
            " Normalization)                                                                                   \n",
            "                                                                                                  \n",
            " activation_322 (Activation)    (None, 12, 12, 192)  0           ['batch_normalization_322[0][0]']\n",
            "                                                                                                  \n",
            " activation_325 (Activation)    (None, 12, 12, 192)  0           ['batch_normalization_325[0][0]']\n",
            "                                                                                                  \n",
            " activation_330 (Activation)    (None, 12, 12, 192)  0           ['batch_normalization_330[0][0]']\n",
            "                                                                                                  \n",
            " activation_331 (Activation)    (None, 12, 12, 192)  0           ['batch_normalization_331[0][0]']\n",
            "                                                                                                  \n",
            " mixed5 (Concatenate)           (None, 12, 12, 768)  0           ['activation_322[0][0]',         \n",
            "                                                                  'activation_325[0][0]',         \n",
            "                                                                  'activation_330[0][0]',         \n",
            "                                                                  'activation_331[0][0]']         \n",
            "                                                                                                  \n",
            " conv2d_336 (Conv2D)            (None, 12, 12, 160)  122880      ['mixed5[0][0]']                 \n",
            "                                                                                                  \n",
            " batch_normalization_336 (Batch  (None, 12, 12, 160)  480        ['conv2d_336[0][0]']             \n",
            " Normalization)                                                                                   \n",
            "                                                                                                  \n",
            " activation_336 (Activation)    (None, 12, 12, 160)  0           ['batch_normalization_336[0][0]']\n",
            "                                                                                                  \n",
            " conv2d_337 (Conv2D)            (None, 12, 12, 160)  179200      ['activation_336[0][0]']         \n",
            "                                                                                                  \n",
            " batch_normalization_337 (Batch  (None, 12, 12, 160)  480        ['conv2d_337[0][0]']             \n",
            " Normalization)                                                                                   \n",
            "                                                                                                  \n",
            " activation_337 (Activation)    (None, 12, 12, 160)  0           ['batch_normalization_337[0][0]']\n",
            "                                                                                                  \n",
            " conv2d_333 (Conv2D)            (None, 12, 12, 160)  122880      ['mixed5[0][0]']                 \n",
            "                                                                                                  \n",
            " conv2d_338 (Conv2D)            (None, 12, 12, 160)  179200      ['activation_337[0][0]']         \n",
            "                                                                                                  \n",
            " batch_normalization_333 (Batch  (None, 12, 12, 160)  480        ['conv2d_333[0][0]']             \n",
            " Normalization)                                                                                   \n",
            "                                                                                                  \n",
            " batch_normalization_338 (Batch  (None, 12, 12, 160)  480        ['conv2d_338[0][0]']             \n",
            " Normalization)                                                                                   \n",
            "                                                                                                  \n",
            " activation_333 (Activation)    (None, 12, 12, 160)  0           ['batch_normalization_333[0][0]']\n",
            "                                                                                                  \n",
            " activation_338 (Activation)    (None, 12, 12, 160)  0           ['batch_normalization_338[0][0]']\n",
            "                                                                                                  \n",
            " conv2d_334 (Conv2D)            (None, 12, 12, 160)  179200      ['activation_333[0][0]']         \n",
            "                                                                                                  \n",
            " conv2d_339 (Conv2D)            (None, 12, 12, 160)  179200      ['activation_338[0][0]']         \n",
            "                                                                                                  \n",
            " batch_normalization_334 (Batch  (None, 12, 12, 160)  480        ['conv2d_334[0][0]']             \n",
            " Normalization)                                                                                   \n",
            "                                                                                                  \n",
            " batch_normalization_339 (Batch  (None, 12, 12, 160)  480        ['conv2d_339[0][0]']             \n",
            " Normalization)                                                                                   \n",
            "                                                                                                  \n",
            " activation_334 (Activation)    (None, 12, 12, 160)  0           ['batch_normalization_334[0][0]']\n",
            "                                                                                                  \n",
            " activation_339 (Activation)    (None, 12, 12, 160)  0           ['batch_normalization_339[0][0]']\n",
            "                                                                                                  \n",
            " average_pooling2d_32 (AverageP  (None, 12, 12, 768)  0          ['mixed5[0][0]']                 \n",
            " ooling2D)                                                                                        \n",
            "                                                                                                  \n",
            " conv2d_332 (Conv2D)            (None, 12, 12, 192)  147456      ['mixed5[0][0]']                 \n",
            "                                                                                                  \n",
            " conv2d_335 (Conv2D)            (None, 12, 12, 192)  215040      ['activation_334[0][0]']         \n",
            "                                                                                                  \n",
            " conv2d_340 (Conv2D)            (None, 12, 12, 192)  215040      ['activation_339[0][0]']         \n",
            "                                                                                                  \n",
            " conv2d_341 (Conv2D)            (None, 12, 12, 192)  147456      ['average_pooling2d_32[0][0]']   \n",
            "                                                                                                  \n",
            " batch_normalization_332 (Batch  (None, 12, 12, 192)  576        ['conv2d_332[0][0]']             \n",
            " Normalization)                                                                                   \n",
            "                                                                                                  \n",
            " batch_normalization_335 (Batch  (None, 12, 12, 192)  576        ['conv2d_335[0][0]']             \n",
            " Normalization)                                                                                   \n",
            "                                                                                                  \n",
            " batch_normalization_340 (Batch  (None, 12, 12, 192)  576        ['conv2d_340[0][0]']             \n",
            " Normalization)                                                                                   \n",
            "                                                                                                  \n",
            " batch_normalization_341 (Batch  (None, 12, 12, 192)  576        ['conv2d_341[0][0]']             \n",
            " Normalization)                                                                                   \n",
            "                                                                                                  \n",
            " activation_332 (Activation)    (None, 12, 12, 192)  0           ['batch_normalization_332[0][0]']\n",
            "                                                                                                  \n",
            " activation_335 (Activation)    (None, 12, 12, 192)  0           ['batch_normalization_335[0][0]']\n",
            "                                                                                                  \n",
            " activation_340 (Activation)    (None, 12, 12, 192)  0           ['batch_normalization_340[0][0]']\n",
            "                                                                                                  \n",
            " activation_341 (Activation)    (None, 12, 12, 192)  0           ['batch_normalization_341[0][0]']\n",
            "                                                                                                  \n",
            " mixed6 (Concatenate)           (None, 12, 12, 768)  0           ['activation_332[0][0]',         \n",
            "                                                                  'activation_335[0][0]',         \n",
            "                                                                  'activation_340[0][0]',         \n",
            "                                                                  'activation_341[0][0]']         \n",
            "                                                                                                  \n",
            " conv2d_346 (Conv2D)            (None, 12, 12, 192)  147456      ['mixed6[0][0]']                 \n",
            "                                                                                                  \n",
            " batch_normalization_346 (Batch  (None, 12, 12, 192)  576        ['conv2d_346[0][0]']             \n",
            " Normalization)                                                                                   \n",
            "                                                                                                  \n",
            " activation_346 (Activation)    (None, 12, 12, 192)  0           ['batch_normalization_346[0][0]']\n",
            "                                                                                                  \n",
            " conv2d_347 (Conv2D)            (None, 12, 12, 192)  258048      ['activation_346[0][0]']         \n",
            "                                                                                                  \n",
            " batch_normalization_347 (Batch  (None, 12, 12, 192)  576        ['conv2d_347[0][0]']             \n",
            " Normalization)                                                                                   \n",
            "                                                                                                  \n",
            " activation_347 (Activation)    (None, 12, 12, 192)  0           ['batch_normalization_347[0][0]']\n",
            "                                                                                                  \n",
            " conv2d_343 (Conv2D)            (None, 12, 12, 192)  147456      ['mixed6[0][0]']                 \n",
            "                                                                                                  \n",
            " conv2d_348 (Conv2D)            (None, 12, 12, 192)  258048      ['activation_347[0][0]']         \n",
            "                                                                                                  \n",
            " batch_normalization_343 (Batch  (None, 12, 12, 192)  576        ['conv2d_343[0][0]']             \n",
            " Normalization)                                                                                   \n",
            "                                                                                                  \n",
            " batch_normalization_348 (Batch  (None, 12, 12, 192)  576        ['conv2d_348[0][0]']             \n",
            " Normalization)                                                                                   \n",
            "                                                                                                  \n",
            " activation_343 (Activation)    (None, 12, 12, 192)  0           ['batch_normalization_343[0][0]']\n",
            "                                                                                                  \n",
            " activation_348 (Activation)    (None, 12, 12, 192)  0           ['batch_normalization_348[0][0]']\n",
            "                                                                                                  \n",
            " conv2d_344 (Conv2D)            (None, 12, 12, 192)  258048      ['activation_343[0][0]']         \n",
            "                                                                                                  \n",
            " conv2d_349 (Conv2D)            (None, 12, 12, 192)  258048      ['activation_348[0][0]']         \n",
            "                                                                                                  \n",
            " batch_normalization_344 (Batch  (None, 12, 12, 192)  576        ['conv2d_344[0][0]']             \n",
            " Normalization)                                                                                   \n",
            "                                                                                                  \n",
            " batch_normalization_349 (Batch  (None, 12, 12, 192)  576        ['conv2d_349[0][0]']             \n",
            " Normalization)                                                                                   \n",
            "                                                                                                  \n",
            " activation_344 (Activation)    (None, 12, 12, 192)  0           ['batch_normalization_344[0][0]']\n",
            "                                                                                                  \n",
            " activation_349 (Activation)    (None, 12, 12, 192)  0           ['batch_normalization_349[0][0]']\n",
            "                                                                                                  \n",
            " average_pooling2d_33 (AverageP  (None, 12, 12, 768)  0          ['mixed6[0][0]']                 \n",
            " ooling2D)                                                                                        \n",
            "                                                                                                  \n",
            " conv2d_342 (Conv2D)            (None, 12, 12, 192)  147456      ['mixed6[0][0]']                 \n",
            "                                                                                                  \n",
            " conv2d_345 (Conv2D)            (None, 12, 12, 192)  258048      ['activation_344[0][0]']         \n",
            "                                                                                                  \n",
            " conv2d_350 (Conv2D)            (None, 12, 12, 192)  258048      ['activation_349[0][0]']         \n",
            "                                                                                                  \n",
            " conv2d_351 (Conv2D)            (None, 12, 12, 192)  147456      ['average_pooling2d_33[0][0]']   \n",
            "                                                                                                  \n",
            " batch_normalization_342 (Batch  (None, 12, 12, 192)  576        ['conv2d_342[0][0]']             \n",
            " Normalization)                                                                                   \n",
            "                                                                                                  \n",
            " batch_normalization_345 (Batch  (None, 12, 12, 192)  576        ['conv2d_345[0][0]']             \n",
            " Normalization)                                                                                   \n",
            "                                                                                                  \n",
            " batch_normalization_350 (Batch  (None, 12, 12, 192)  576        ['conv2d_350[0][0]']             \n",
            " Normalization)                                                                                   \n",
            "                                                                                                  \n",
            " batch_normalization_351 (Batch  (None, 12, 12, 192)  576        ['conv2d_351[0][0]']             \n",
            " Normalization)                                                                                   \n",
            "                                                                                                  \n",
            " activation_342 (Activation)    (None, 12, 12, 192)  0           ['batch_normalization_342[0][0]']\n",
            "                                                                                                  \n",
            " activation_345 (Activation)    (None, 12, 12, 192)  0           ['batch_normalization_345[0][0]']\n",
            "                                                                                                  \n",
            " activation_350 (Activation)    (None, 12, 12, 192)  0           ['batch_normalization_350[0][0]']\n",
            "                                                                                                  \n",
            " activation_351 (Activation)    (None, 12, 12, 192)  0           ['batch_normalization_351[0][0]']\n",
            "                                                                                                  \n",
            " mixed7 (Concatenate)           (None, 12, 12, 768)  0           ['activation_342[0][0]',         \n",
            "                                                                  'activation_345[0][0]',         \n",
            "                                                                  'activation_350[0][0]',         \n",
            "                                                                  'activation_351[0][0]']         \n",
            "                                                                                                  \n",
            " conv2d_354 (Conv2D)            (None, 12, 12, 192)  147456      ['mixed7[0][0]']                 \n",
            "                                                                                                  \n",
            " batch_normalization_354 (Batch  (None, 12, 12, 192)  576        ['conv2d_354[0][0]']             \n",
            " Normalization)                                                                                   \n",
            "                                                                                                  \n",
            " activation_354 (Activation)    (None, 12, 12, 192)  0           ['batch_normalization_354[0][0]']\n",
            "                                                                                                  \n",
            " conv2d_355 (Conv2D)            (None, 12, 12, 192)  258048      ['activation_354[0][0]']         \n",
            "                                                                                                  \n",
            " batch_normalization_355 (Batch  (None, 12, 12, 192)  576        ['conv2d_355[0][0]']             \n",
            " Normalization)                                                                                   \n",
            "                                                                                                  \n",
            " activation_355 (Activation)    (None, 12, 12, 192)  0           ['batch_normalization_355[0][0]']\n",
            "                                                                                                  \n",
            " conv2d_352 (Conv2D)            (None, 12, 12, 192)  147456      ['mixed7[0][0]']                 \n",
            "                                                                                                  \n",
            " conv2d_356 (Conv2D)            (None, 12, 12, 192)  258048      ['activation_355[0][0]']         \n",
            "                                                                                                  \n",
            " batch_normalization_352 (Batch  (None, 12, 12, 192)  576        ['conv2d_352[0][0]']             \n",
            " Normalization)                                                                                   \n",
            "                                                                                                  \n",
            " batch_normalization_356 (Batch  (None, 12, 12, 192)  576        ['conv2d_356[0][0]']             \n",
            " Normalization)                                                                                   \n",
            "                                                                                                  \n",
            " activation_352 (Activation)    (None, 12, 12, 192)  0           ['batch_normalization_352[0][0]']\n",
            "                                                                                                  \n",
            " activation_356 (Activation)    (None, 12, 12, 192)  0           ['batch_normalization_356[0][0]']\n",
            "                                                                                                  \n",
            " conv2d_353 (Conv2D)            (None, 5, 5, 320)    552960      ['activation_352[0][0]']         \n",
            "                                                                                                  \n",
            " conv2d_357 (Conv2D)            (None, 5, 5, 192)    331776      ['activation_356[0][0]']         \n",
            "                                                                                                  \n",
            " batch_normalization_353 (Batch  (None, 5, 5, 320)   960         ['conv2d_353[0][0]']             \n",
            " Normalization)                                                                                   \n",
            "                                                                                                  \n",
            " batch_normalization_357 (Batch  (None, 5, 5, 192)   576         ['conv2d_357[0][0]']             \n",
            " Normalization)                                                                                   \n",
            "                                                                                                  \n",
            " activation_353 (Activation)    (None, 5, 5, 320)    0           ['batch_normalization_353[0][0]']\n",
            "                                                                                                  \n",
            " activation_357 (Activation)    (None, 5, 5, 192)    0           ['batch_normalization_357[0][0]']\n",
            "                                                                                                  \n",
            " max_pooling2d_15 (MaxPooling2D  (None, 5, 5, 768)   0           ['mixed7[0][0]']                 \n",
            " )                                                                                                \n",
            "                                                                                                  \n",
            " mixed8 (Concatenate)           (None, 5, 5, 1280)   0           ['activation_353[0][0]',         \n",
            "                                                                  'activation_357[0][0]',         \n",
            "                                                                  'max_pooling2d_15[0][0]']       \n",
            "                                                                                                  \n",
            " conv2d_362 (Conv2D)            (None, 5, 5, 448)    573440      ['mixed8[0][0]']                 \n",
            "                                                                                                  \n",
            " batch_normalization_362 (Batch  (None, 5, 5, 448)   1344        ['conv2d_362[0][0]']             \n",
            " Normalization)                                                                                   \n",
            "                                                                                                  \n",
            " activation_362 (Activation)    (None, 5, 5, 448)    0           ['batch_normalization_362[0][0]']\n",
            "                                                                                                  \n",
            " conv2d_359 (Conv2D)            (None, 5, 5, 384)    491520      ['mixed8[0][0]']                 \n",
            "                                                                                                  \n",
            " conv2d_363 (Conv2D)            (None, 5, 5, 384)    1548288     ['activation_362[0][0]']         \n",
            "                                                                                                  \n",
            " batch_normalization_359 (Batch  (None, 5, 5, 384)   1152        ['conv2d_359[0][0]']             \n",
            " Normalization)                                                                                   \n",
            "                                                                                                  \n",
            " batch_normalization_363 (Batch  (None, 5, 5, 384)   1152        ['conv2d_363[0][0]']             \n",
            " Normalization)                                                                                   \n",
            "                                                                                                  \n",
            " activation_359 (Activation)    (None, 5, 5, 384)    0           ['batch_normalization_359[0][0]']\n",
            "                                                                                                  \n",
            " activation_363 (Activation)    (None, 5, 5, 384)    0           ['batch_normalization_363[0][0]']\n",
            "                                                                                                  \n",
            " conv2d_360 (Conv2D)            (None, 5, 5, 384)    442368      ['activation_359[0][0]']         \n",
            "                                                                                                  \n",
            " conv2d_361 (Conv2D)            (None, 5, 5, 384)    442368      ['activation_359[0][0]']         \n",
            "                                                                                                  \n",
            " conv2d_364 (Conv2D)            (None, 5, 5, 384)    442368      ['activation_363[0][0]']         \n",
            "                                                                                                  \n",
            " conv2d_365 (Conv2D)            (None, 5, 5, 384)    442368      ['activation_363[0][0]']         \n",
            "                                                                                                  \n",
            " average_pooling2d_34 (AverageP  (None, 5, 5, 1280)  0           ['mixed8[0][0]']                 \n",
            " ooling2D)                                                                                        \n",
            "                                                                                                  \n",
            " conv2d_358 (Conv2D)            (None, 5, 5, 320)    409600      ['mixed8[0][0]']                 \n",
            "                                                                                                  \n",
            " batch_normalization_360 (Batch  (None, 5, 5, 384)   1152        ['conv2d_360[0][0]']             \n",
            " Normalization)                                                                                   \n",
            "                                                                                                  \n",
            " batch_normalization_361 (Batch  (None, 5, 5, 384)   1152        ['conv2d_361[0][0]']             \n",
            " Normalization)                                                                                   \n",
            "                                                                                                  \n",
            " batch_normalization_364 (Batch  (None, 5, 5, 384)   1152        ['conv2d_364[0][0]']             \n",
            " Normalization)                                                                                   \n",
            "                                                                                                  \n",
            " batch_normalization_365 (Batch  (None, 5, 5, 384)   1152        ['conv2d_365[0][0]']             \n",
            " Normalization)                                                                                   \n",
            "                                                                                                  \n",
            " conv2d_366 (Conv2D)            (None, 5, 5, 192)    245760      ['average_pooling2d_34[0][0]']   \n",
            "                                                                                                  \n",
            " batch_normalization_358 (Batch  (None, 5, 5, 320)   960         ['conv2d_358[0][0]']             \n",
            " Normalization)                                                                                   \n",
            "                                                                                                  \n",
            " activation_360 (Activation)    (None, 5, 5, 384)    0           ['batch_normalization_360[0][0]']\n",
            "                                                                                                  \n",
            " activation_361 (Activation)    (None, 5, 5, 384)    0           ['batch_normalization_361[0][0]']\n",
            "                                                                                                  \n",
            " activation_364 (Activation)    (None, 5, 5, 384)    0           ['batch_normalization_364[0][0]']\n",
            "                                                                                                  \n",
            " activation_365 (Activation)    (None, 5, 5, 384)    0           ['batch_normalization_365[0][0]']\n",
            "                                                                                                  \n",
            " batch_normalization_366 (Batch  (None, 5, 5, 192)   576         ['conv2d_366[0][0]']             \n",
            " Normalization)                                                                                   \n",
            "                                                                                                  \n",
            " activation_358 (Activation)    (None, 5, 5, 320)    0           ['batch_normalization_358[0][0]']\n",
            "                                                                                                  \n",
            " mixed9_0 (Concatenate)         (None, 5, 5, 768)    0           ['activation_360[0][0]',         \n",
            "                                                                  'activation_361[0][0]']         \n",
            "                                                                                                  \n",
            " concatenate_6 (Concatenate)    (None, 5, 5, 768)    0           ['activation_364[0][0]',         \n",
            "                                                                  'activation_365[0][0]']         \n",
            "                                                                                                  \n",
            " activation_366 (Activation)    (None, 5, 5, 192)    0           ['batch_normalization_366[0][0]']\n",
            "                                                                                                  \n",
            " mixed9 (Concatenate)           (None, 5, 5, 2048)   0           ['activation_358[0][0]',         \n",
            "                                                                  'mixed9_0[0][0]',               \n",
            "                                                                  'concatenate_6[0][0]',          \n",
            "                                                                  'activation_366[0][0]']         \n",
            "                                                                                                  \n",
            " conv2d_371 (Conv2D)            (None, 5, 5, 448)    917504      ['mixed9[0][0]']                 \n",
            "                                                                                                  \n",
            " batch_normalization_371 (Batch  (None, 5, 5, 448)   1344        ['conv2d_371[0][0]']             \n",
            " Normalization)                                                                                   \n",
            "                                                                                                  \n",
            " activation_371 (Activation)    (None, 5, 5, 448)    0           ['batch_normalization_371[0][0]']\n",
            "                                                                                                  \n",
            " conv2d_368 (Conv2D)            (None, 5, 5, 384)    786432      ['mixed9[0][0]']                 \n",
            "                                                                                                  \n",
            " conv2d_372 (Conv2D)            (None, 5, 5, 384)    1548288     ['activation_371[0][0]']         \n",
            "                                                                                                  \n",
            " batch_normalization_368 (Batch  (None, 5, 5, 384)   1152        ['conv2d_368[0][0]']             \n",
            " Normalization)                                                                                   \n",
            "                                                                                                  \n",
            " batch_normalization_372 (Batch  (None, 5, 5, 384)   1152        ['conv2d_372[0][0]']             \n",
            " Normalization)                                                                                   \n",
            "                                                                                                  \n",
            " activation_368 (Activation)    (None, 5, 5, 384)    0           ['batch_normalization_368[0][0]']\n",
            "                                                                                                  \n",
            " activation_372 (Activation)    (None, 5, 5, 384)    0           ['batch_normalization_372[0][0]']\n",
            "                                                                                                  \n",
            " conv2d_369 (Conv2D)            (None, 5, 5, 384)    442368      ['activation_368[0][0]']         \n",
            "                                                                                                  \n",
            " conv2d_370 (Conv2D)            (None, 5, 5, 384)    442368      ['activation_368[0][0]']         \n",
            "                                                                                                  \n",
            " conv2d_373 (Conv2D)            (None, 5, 5, 384)    442368      ['activation_372[0][0]']         \n",
            "                                                                                                  \n",
            " conv2d_374 (Conv2D)            (None, 5, 5, 384)    442368      ['activation_372[0][0]']         \n",
            "                                                                                                  \n",
            " average_pooling2d_35 (AverageP  (None, 5, 5, 2048)  0           ['mixed9[0][0]']                 \n",
            " ooling2D)                                                                                        \n",
            "                                                                                                  \n",
            " conv2d_367 (Conv2D)            (None, 5, 5, 320)    655360      ['mixed9[0][0]']                 \n",
            "                                                                                                  \n",
            " batch_normalization_369 (Batch  (None, 5, 5, 384)   1152        ['conv2d_369[0][0]']             \n",
            " Normalization)                                                                                   \n",
            "                                                                                                  \n",
            " batch_normalization_370 (Batch  (None, 5, 5, 384)   1152        ['conv2d_370[0][0]']             \n",
            " Normalization)                                                                                   \n",
            "                                                                                                  \n",
            " batch_normalization_373 (Batch  (None, 5, 5, 384)   1152        ['conv2d_373[0][0]']             \n",
            " Normalization)                                                                                   \n",
            "                                                                                                  \n",
            " batch_normalization_374 (Batch  (None, 5, 5, 384)   1152        ['conv2d_374[0][0]']             \n",
            " Normalization)                                                                                   \n",
            "                                                                                                  \n",
            " conv2d_375 (Conv2D)            (None, 5, 5, 192)    393216      ['average_pooling2d_35[0][0]']   \n",
            "                                                                                                  \n",
            " batch_normalization_367 (Batch  (None, 5, 5, 320)   960         ['conv2d_367[0][0]']             \n",
            " Normalization)                                                                                   \n",
            "                                                                                                  \n",
            " activation_369 (Activation)    (None, 5, 5, 384)    0           ['batch_normalization_369[0][0]']\n",
            "                                                                                                  \n",
            " activation_370 (Activation)    (None, 5, 5, 384)    0           ['batch_normalization_370[0][0]']\n",
            "                                                                                                  \n",
            " activation_373 (Activation)    (None, 5, 5, 384)    0           ['batch_normalization_373[0][0]']\n",
            "                                                                                                  \n",
            " activation_374 (Activation)    (None, 5, 5, 384)    0           ['batch_normalization_374[0][0]']\n",
            "                                                                                                  \n",
            " batch_normalization_375 (Batch  (None, 5, 5, 192)   576         ['conv2d_375[0][0]']             \n",
            " Normalization)                                                                                   \n",
            "                                                                                                  \n",
            " activation_367 (Activation)    (None, 5, 5, 320)    0           ['batch_normalization_367[0][0]']\n",
            "                                                                                                  \n",
            " mixed9_1 (Concatenate)         (None, 5, 5, 768)    0           ['activation_369[0][0]',         \n",
            "                                                                  'activation_370[0][0]']         \n",
            "                                                                                                  \n",
            " concatenate_7 (Concatenate)    (None, 5, 5, 768)    0           ['activation_373[0][0]',         \n",
            "                                                                  'activation_374[0][0]']         \n",
            "                                                                                                  \n",
            " activation_375 (Activation)    (None, 5, 5, 192)    0           ['batch_normalization_375[0][0]']\n",
            "                                                                                                  \n",
            " mixed10 (Concatenate)          (None, 5, 5, 2048)   0           ['activation_367[0][0]',         \n",
            "                                                                  'mixed9_1[0][0]',               \n",
            "                                                                  'concatenate_7[0][0]',          \n",
            "                                                                  'activation_375[0][0]']         \n",
            "                                                                                                  \n",
            " flatten_1 (Flatten)            (None, 51200)        0           ['mixed10[0][0]']                \n",
            "                                                                                                  \n",
            " dense_2 (Dense)                (None, 16)           819216      ['flatten_1[0][0]']              \n",
            "                                                                                                  \n",
            "==================================================================================================\n",
            "Total params: 22,622,000\n",
            "Trainable params: 22,587,568\n",
            "Non-trainable params: 34,432\n",
            "__________________________________________________________________________________________________\n"
          ]
        }
      ]
    },
    {
      "cell_type": "code",
      "source": [
        "model.compile(\n",
        "  loss='categorical_crossentropy',\n",
        "  optimizer='adam',\n",
        "  metrics=['accuracy']\n",
        ")"
      ],
      "metadata": {
        "id": "B37I2CYk6TQR"
      },
      "execution_count": 99,
      "outputs": []
    },
    {
      "cell_type": "code",
      "source": [
        "# Use the Image Data Generator to import the images from the dataset\n",
        "from tensorflow.keras.preprocessing.image import ImageDataGenerator\n",
        "\n",
        "train_datagen = ImageDataGenerator(rescale = 1./255,\n",
        "                                   shear_range = 0.2,\n",
        "                                   zoom_range = 0.2,\n",
        "                                   horizontal_flip = True)\n",
        "\n",
        "test_datagen = ImageDataGenerator(rescale = 1./255)"
      ],
      "metadata": {
        "id": "pm7qx5vH6dNi"
      },
      "execution_count": 101,
      "outputs": []
    },
    {
      "cell_type": "code",
      "source": [
        "# Make sure you provide the same target size as initialied for the image size\n",
        "training_set = train_datagen.flow_from_directory('/content/drive/MyDrive/Dataset/train',\n",
        "                                                 target_size = (224, 224),\n",
        "                                                 batch_size = 32,\n",
        "                                                 class_mode = 'categorical')"
      ],
      "metadata": {
        "colab": {
          "base_uri": "https://localhost:8080/"
        },
        "id": "O17XJLJH6gHD",
        "outputId": "7aedca16-7b15-4bad-da6b-f9e5c7c6bdf1"
      },
      "execution_count": 103,
      "outputs": [
        {
          "output_type": "stream",
          "name": "stdout",
          "text": [
            "Found 1514 images belonging to 16 classes.\n"
          ]
        }
      ]
    },
    {
      "cell_type": "code",
      "source": [
        "test_set = test_datagen.flow_from_directory('/content/drive/MyDrive/Dataset/validation',\n",
        "                                            target_size = (224, 224),\n",
        "                                            batch_size = 32,\n",
        "                                            class_mode = 'categorical')"
      ],
      "metadata": {
        "colab": {
          "base_uri": "https://localhost:8080/"
        },
        "id": "QIUpJwNP89B9",
        "outputId": "17fcb715-c59f-48f7-f103-0e0072312962"
      },
      "execution_count": 106,
      "outputs": [
        {
          "output_type": "stream",
          "name": "stdout",
          "text": [
            "Found 1514 images belonging to 16 classes.\n"
          ]
        }
      ]
    },
    {
      "cell_type": "code",
      "source": [
        "r = model.fit_generator(\n",
        "  training_set,\n",
        "  validation_data=test_set,\n",
        "  epochs=10,\n",
        "  steps_per_epoch=len(training_set),\n",
        "  validation_steps=len(test_set)\n",
        ")"
      ],
      "metadata": {
        "colab": {
          "base_uri": "https://localhost:8080/"
        },
        "id": "M5VRAsIB9Gl4",
        "outputId": "53c370f1-6f9b-4309-eaee-105754bd516e"
      },
      "execution_count": 110,
      "outputs": [
        {
          "output_type": "stream",
          "name": "stderr",
          "text": [
            "<ipython-input-110-5932e3024fde>:1: UserWarning: `Model.fit_generator` is deprecated and will be removed in a future version. Please use `Model.fit`, which supports generators.\n",
            "  r = model.fit_generator(\n"
          ]
        },
        {
          "output_type": "stream",
          "name": "stdout",
          "text": [
            "Epoch 1/10\n",
            "48/48 [==============================] - 706s 15s/step - loss: 0.4616 - accuracy: 0.8705 - val_loss: 46380.9414 - val_accuracy: 0.1915\n",
            "Epoch 2/10\n",
            "48/48 [==============================] - 510s 11s/step - loss: 2.8786 - accuracy: 0.5793 - val_loss: 17351288832.0000 - val_accuracy: 0.1830\n",
            "Epoch 3/10\n",
            "48/48 [==============================] - 511s 11s/step - loss: 1.3125 - accuracy: 0.6189 - val_loss: 920337.3125 - val_accuracy: 0.1869\n",
            "Epoch 4/10\n",
            "48/48 [==============================] - 506s 11s/step - loss: 1.0469 - accuracy: 0.7345 - val_loss: 95.9911 - val_accuracy: 0.3976\n",
            "Epoch 5/10\n",
            "48/48 [==============================] - 515s 11s/step - loss: 0.8431 - accuracy: 0.8065 - val_loss: 8.1138 - val_accuracy: 0.7338\n",
            "Epoch 6/10\n",
            "48/48 [==============================] - 507s 11s/step - loss: 0.6496 - accuracy: 0.8342 - val_loss: 0.6028 - val_accuracy: 0.8124\n",
            "Epoch 7/10\n",
            "48/48 [==============================] - 514s 11s/step - loss: 0.6575 - accuracy: 0.8355 - val_loss: 0.6058 - val_accuracy: 0.8230\n",
            "Epoch 8/10\n",
            "48/48 [==============================] - 523s 11s/step - loss: 0.4952 - accuracy: 0.8771 - val_loss: 0.6226 - val_accuracy: 0.8018\n",
            "Epoch 9/10\n",
            "48/48 [==============================] - 508s 11s/step - loss: 0.3639 - accuracy: 0.8745 - val_loss: 0.7077 - val_accuracy: 0.7886\n",
            "Epoch 10/10\n",
            "48/48 [==============================] - 509s 11s/step - loss: 0.2643 - accuracy: 0.9141 - val_loss: 0.4584 - val_accuracy: 0.8765\n"
          ]
        }
      ]
    },
    {
      "cell_type": "code",
      "source": [
        "import matplotlib.pyplot as plt"
      ],
      "metadata": {
        "id": "38pizJ_CCOvF"
      },
      "execution_count": 111,
      "outputs": []
    },
    {
      "cell_type": "code",
      "source": [
        "# plot the loss\n",
        "plt.plot(r.history['loss'], label='train loss')\n",
        "plt.plot(r.history['val_loss'], label='val loss')\n",
        "plt.legend()\n",
        "plt.show()\n",
        "plt.savefig('LossVal_loss')\n",
        "\n",
        "# plot the accuracy\n",
        "plt.plot(r.history['accuracy'], label='train acc')\n",
        "plt.plot(r.history['val_accuracy'], label='val acc')\n",
        "plt.legend()\n",
        "plt.show()\n",
        "plt.savefig('AccVal_acc')"
      ],
      "metadata": {
        "colab": {
          "base_uri": "https://localhost:8080/",
          "height": 541
        },
        "id": "tifyuCVeYgAk",
        "outputId": "13fd8b98-d16c-40e4-fe7c-2b50fd3239ab"
      },
      "execution_count": 112,
      "outputs": [
        {
          "output_type": "display_data",
          "data": {
            "text/plain": [
              "<Figure size 432x288 with 1 Axes>"
            ],
            "image/png": "[encoded data removed]"
          },
          "metadata": {
            "needs_background": "light"
          }
        },
        {
          "output_type": "display_data",
          "data": {
            "text/plain": [
              "<Figure size 432x288 with 1 Axes>"
            ],
            "image/png": "[encoded data removed]"
          },
          "metadata": {
            "needs_background": "light"
          }
        },
        {
          "output_type": "display_data",
          "data": {
            "text/plain": [
              "<Figure size 432x288 with 0 Axes>"
            ]
          },
          "metadata": {}
        }
      ]
    },
    {
      "cell_type": "code",
      "source": [
        "from tensorflow.keras.models import load_model\n",
        "\n",
        "model.save('model_inception.h5')"
      ],
      "metadata": {
        "id": "kZWHllvTYl78"
      },
      "execution_count": 113,
      "outputs": []
    },
    {
      "cell_type": "code",
      "source": [
        "y_pred = model.predict(test_set)"
      ],
      "metadata": {
        "colab": {
          "base_uri": "https://localhost:8080/"
        },
        "id": "_CKCk0ycYrWj",
        "outputId": "0cf213f1-b137-4428-e549-94a34b9a6881"
      },
      "execution_count": 114,
      "outputs": [
        {
          "output_type": "stream",
          "name": "stdout",
          "text": [
            "48/48 [==============================] - 245s 5s/step\n"
          ]
        }
      ]
    },
    {
      "cell_type": "code",
      "source": [
        "y_pred"
      ],
      "metadata": {
        "colab": {
          "base_uri": "https://localhost:8080/"
        },
        "id": "WS5tnNQ5Zsqj",
        "outputId": "2b75606d-35cd-4bb4-e4f1-ab7e7ba8d605"
      },
      "execution_count": 115,
      "outputs": [
        {
          "output_type": "execute_result",
          "data": {
            "text/plain": [
              "array([[8.7578141e-05, 6.9480702e-05, 1.2671212e-03, ..., 6.7051172e-01,\n",
              "        4.3649776e-03, 6.3699606e-04],\n",
              "       [2.5249953e-08, 4.4502794e-06, 6.6973107e-06, ..., 2.4568145e-03,\n",
              "        2.1582311e-05, 2.3664117e-05],\n",
              "       [5.8096350e-05, 1.3760328e-02, 9.8618013e-01, ..., 8.0500136e-08,\n",
              "        3.5203021e-07, 2.2745497e-09],\n",
              "       ...,\n",
              "       [2.1104226e-01, 4.5012632e-01, 3.2187536e-01, ..., 7.9644169e-04,\n",
              "        6.9987820e-03, 3.4348334e-03],\n",
              "       [5.3918279e-09, 3.3687261e-08, 2.8714103e-07, ..., 1.2381724e-04,\n",
              "        9.6179838e-06, 6.3997061e-09],\n",
              "       [8.5104022e-09, 5.9183378e-09, 1.0138896e-06, ..., 5.9754178e-08,\n",
              "        1.8257656e-04, 3.3955004e-08]], dtype=float32)"
            ]
          },
          "metadata": {},
          "execution_count": 115
        }
      ]
    },
    {
      "cell_type": "code",
      "source": [
        "import numpy as np\n",
        "y_pred = np.argmax(y_pred, axis=1)"
      ],
      "metadata": {
        "id": "__6OmTmBZzCj"
      },
      "execution_count": 116,
      "outputs": []
    },
    {
      "cell_type": "code",
      "source": [
        "y_pred"
      ],
      "metadata": {
        "colab": {
          "base_uri": "https://localhost:8080/"
        },
        "id": "SQKDbRjPZ26k",
        "outputId": "d1577e31-6049-47a0-b663-a88579bb1ad0"
      },
      "execution_count": 117,
      "outputs": [
        {
          "output_type": "execute_result",
          "data": {
            "text/plain": [
              "array([13, 12,  2, ...,  1,  9,  4])"
            ]
          },
          "metadata": {},
          "execution_count": 117
        }
      ]
    },
    {
      "cell_type": "code",
      "source": [
        "from tensorflow.keras.models import load_model\n",
        "from tensorflow.keras.preprocessing import image"
      ],
      "metadata": {
        "id": "T9gxtKqGZ9_C"
      },
      "execution_count": 118,
      "outputs": []
    },
    {
      "cell_type": "code",
      "source": [
        "model=load_model('/content/model_inception.h5')"
      ],
      "metadata": {
        "id": "x29I82poaBwb"
      },
      "execution_count": 120,
      "outputs": []
    },
    {
      "cell_type": "code",
      "source": [
        "img=image.load_img('Datasets/Test/Coffee/download (2).jpg',target_size=(224,224))"
      ],
      "metadata": {
        "id": "kKCU1RK2kQs0"
      },
      "execution_count": null,
      "outputs": []
    },
    {
      "cell_type": "code",
      "source": [
        "x=image.img_to_array(img)\n",
        "x"
      ],
      "metadata": {
        "id": "gsjwu9i2kayd"
      },
      "execution_count": null,
      "outputs": []
    },
    {
      "cell_type": "code",
      "source": [
        "x.shape"
      ],
      "metadata": {
        "id": "6txBF-Glkcb7"
      },
      "execution_count": null,
      "outputs": []
    },
    {
      "cell_type": "code",
      "source": [
        "x=x/255"
      ],
      "metadata": {
        "id": "l0WsRTyNkeBT"
      },
      "execution_count": null,
      "outputs": []
    },
    {
      "cell_type": "code",
      "source": [
        "import numpy as np\n",
        "x=np.expand_dims(x,axis=0)\n",
        "img_data=preprocess_input(x)\n",
        "img_data.shape"
      ],
      "metadata": {
        "id": "KNBgcs_4kf6D"
      },
      "execution_count": null,
      "outputs": []
    },
    {
      "cell_type": "code",
      "source": [
        "model.predict(img_data)"
      ],
      "metadata": {
        "id": "kITxBtXEkhar"
      },
      "execution_count": null,
      "outputs": []
    },
    {
      "cell_type": "code",
      "source": [
        "a=np.argmax(model.predict(img_data), axis=1)"
      ],
      "metadata": {
        "id": "1efGFZoMkizr"
      },
      "execution_count": null,
      "outputs": []
    },
    {
      "cell_type": "code",
      "source": [
        "a==1"
      ],
      "metadata": {
        "id": "OMv6XV5PkjPu"
      },
      "execution_count": null,
      "outputs": []
    },
    {
      "cell_type": "code",
      "source": [
        "import tensorflow as tf"
      ],
      "metadata": {
        "id": "bt1WzZemkksi"
      },
      "execution_count": null,
      "outputs": []
    },
    {
      "cell_type": "code",
      "source": [
        "tf.__version__"
      ],
      "metadata": {
        "id": "_JcBdOu1km_r"
      },
      "execution_count": null,
      "outputs": []
    }
  ]
}